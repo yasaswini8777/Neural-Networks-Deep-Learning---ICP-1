{
 "cells": [
  {
   "cell_type": "code",
   "execution_count": 3,
   "id": "08669447",
   "metadata": {},
   "outputs": [
    {
     "name": "stdout",
     "output_type": "stream",
     "text": [
      "Enter the string 'Python': python\n",
      "Reversed String: ntyp\n",
      "Enter the first number: 2\n",
      "Enter the second number: 5\n",
      "Addition: 7.0\n",
      "Subtraction: -3.0\n",
      "Multiplication: 10.0\n",
      "Division: 0.4\n"
     ]
    }
   ],
   "source": [
    "# Input the string \"Python\" as a list of characters from console\n",
    "input_string = list(input(\"Enter the string 'Python': \"))\n",
    "\n",
    "# Delete at least 2 characters\n",
    "if len(input_string) >= 2:\n",
    "    del input_string[3:5]\n",
    "\n",
    "# Reverse the resultant string\n",
    "resultant_string = ''.join(reversed(input_string))\n",
    "\n",
    "# Print the reversed string\n",
    "print(\"Reversed String:\", resultant_string)\n",
    "\n",
    "# Take two numbers from the user\n",
    "num1 = float(input(\"Enter the first number: \"))\n",
    "num2 = float(input(\"Enter the second number: \"))\n",
    "\n",
    "# Perform at least 4 arithmetic operations\n",
    "addition = num1 + num2\n",
    "subtraction = num1 - num2\n",
    "multiplication = num1 * num2\n",
    "division = num1 / num2\n",
    "\n",
    "# Print the results of arithmetic operations\n",
    "print(\"Addition:\", addition)\n",
    "print(\"Subtraction:\", subtraction)\n",
    "print(\"Multiplication:\", multiplication)\n",
    "print(\"Division:\", division)\n"
   ]
  },
  {
   "cell_type": "code",
   "execution_count": 4,
   "id": "eaeab93b",
   "metadata": {},
   "outputs": [
    {
     "name": "stdout",
     "output_type": "stream",
     "text": [
      "Enter a sentence: python\n",
      "Modified Sentence: pythons\n"
     ]
    }
   ],
   "source": [
    "# Accept a sentence from the user\n",
    "sentence = input(\"Enter a sentence: \")\n",
    "\n",
    "# Replace each occurrence of 'python' with 'pythons'\n",
    "modified_sentence = sentence.replace('python', 'pythons')\n",
    "\n",
    "# Print the modified sentence\n",
    "print(\"Modified Sentence:\", modified_sentence)"
   ]
  },
  {
   "cell_type": "code",
   "execution_count": 5,
   "id": "62ba4c4c",
   "metadata": {},
   "outputs": [
    {
     "name": "stdout",
     "output_type": "stream",
     "text": [
      "Enter the class score: 90\n",
      "Letter Grade: A\n"
     ]
    }
   ],
   "source": [
    "class_score = float(input(\"Enter the class score: \"))\n",
    "\n",
    "# Define grading scheme (you can adjust the score ranges as needed)\n",
    "A_score = 90\n",
    "B_score = 80\n",
    "C_score = 70\n",
    "D_score = 60\n",
    "\n",
    "# Use if statements to determine the letter grade\n",
    "if class_score >= A_score:\n",
    "    grade = 'A'\n",
    "elif class_score >= B_score:\n",
    "    grade = 'B'\n",
    "elif class_score >= C_score:\n",
    "    grade = 'C'\n",
    "elif class_score >= D_score:\n",
    "    grade = 'D'\n",
    "else:\n",
    "    grade = 'F'\n",
    "\n",
    "# Print the letter grade\n",
    "print(\"Letter Grade:\", grade)\n"
   ]
  },
  {
   "cell_type": "code",
   "execution_count": null,
   "id": "d90e1440",
   "metadata": {},
   "outputs": [],
   "source": []
  }
 ],
 "metadata": {
  "kernelspec": {
   "display_name": "Python 3 (ipykernel)",
   "language": "python",
   "name": "python3"
  },
  "language_info": {
   "codemirror_mode": {
    "name": "ipython",
    "version": 3
   },
   "file_extension": ".py",
   "mimetype": "text/x-python",
   "name": "python",
   "nbconvert_exporter": "python",
   "pygments_lexer": "ipython3",
   "version": "3.11.5"
  }
 },
 "nbformat": 4,
 "nbformat_minor": 5
}
